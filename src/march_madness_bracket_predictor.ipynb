{
 "cells": [
  {
   "cell_type": "markdown",
   "metadata": {},
   "source": [
    "# 2021 March Madness Bracket Predictor\n",
    "\n",
    "### Predicts and generates a 2021 March Madness bracket.\n",
    "\n",
    "Developers:\n",
    "- Brady Lange (03/08/2021)"
   ]
  },
  {
   "cell_type": "markdown",
   "metadata": {},
   "source": [
    "## Libraries"
   ]
  },
  {
   "cell_type": "code",
   "execution_count": null,
   "metadata": {},
   "outputs": [],
   "source": [
    "# Import standard libraries\n",
    "import os\n",
    "import pandas as pd\n",
    "import numpy as np\n",
    "\n",
    "# Configure settings\n",
    "# pd.set_option(\"display.max.columns\", None)\n",
    "# pd.set_option(\"display.precision\", 2)"
   ]
  },
  {
   "cell_type": "markdown",
   "metadata": {},
   "source": [
    "## Load Data"
   ]
  },
  {
   "cell_type": "code",
   "execution_count": null,
   "metadata": {},
   "outputs": [],
   "source": [
    "base_path = os.path.abspath(\"..\")\n",
    "data_path = os.path.join(base_path, \"data\")\n",
    "\n",
    "data_file_paths = {}\n",
    "exclude_dirs = [\"2020_challenge_data\", \"output\"]\n",
    "\n",
    "for root, dirs, files in os.walk(data_path, topdown=True):\n",
    "    # Exclude last year's challenge data and output files\n",
    "    dirs[:] = [d for d in dirs if d not in exclude_dirs]\n",
    "    for file_name in files:\n",
    "        if file_name.endswith(\".csv\"):\n",
    "            data_file_paths[file_name[:-4]] = os.path.join(root, file_name)\n",
    "\n",
    "# Basic data\n",
    "m_ncaa_tourney_compact_results_df = pd.read_csv(data_file_paths[\"m_ncaa_tourney_compact_results\"])\n",
    "m_ncaa_tourney_seeds_df = pd.read_csv(data_file_paths[\"m_ncaa_tourney_seeds\"])\n",
    "m_regular_season_compact_results_df = pd.read_csv(data_file_paths[\"m_regular_season_compact_results\"])\n",
    "m_seasons_df = pd.read_csv(data_file_paths[\"m_seasons\"])\n",
    "m_teams_df = pd.read_csv(data_file_paths[\"m_teams\"])\n",
    "\n",
    "# Team box scores data\n",
    "m_ncaa_tourney_detailed_results_df = pd.read_csv(data_file_paths[\"m_ncaa_tourney_detailed_results\"])\n",
    "m_regular_season_detailed_results_df = pd.read_csv(data_file_paths[\"m_regular_season_detailed_results\"])\n",
    "\n",
    "# Geography data\n",
    "cities_df = pd.read_csv(data_file_paths[\"cities\"])\n",
    "m_game_cities_df = pd.read_csv(data_file_paths[\"m_game_cities\"])\n",
    "\n",
    "# Public rankings data\n",
    "m_massey_ordinals_df = pd.read_csv(data_file_paths[\"m_massey_ordinals\"])\n",
    "\n",
    "# Supplemental data\n",
    "conferences_df = pd.read_csv(data_file_paths[\"conferences\"])\n",
    "m_conference_tourney_games_df = pd.read_csv(data_file_paths[\"m_conference_tourney_games\"])\n",
    "m_ncaa_tourney_seed_round_slots_df = pd.read_csv(data_file_paths[\"m_ncaa_tourney_seed_round_slots\"])\n",
    "m_ncaa_tourney_slots_df = pd.read_csv(data_file_paths[\"m_ncaa_tourney_slots\"])\n",
    "m_secondary_tourney_compact_results_df = pd.read_csv(data_file_paths[\"m_secondary_tourney_compact_results\"])\n",
    "m_secondary_tourney_teams_df = pd.read_csv(data_file_paths[\"m_secondary_tourney_teams\"])\n",
    "m_team_coaches_df = pd.read_csv(data_file_paths[\"m_team_coaches\"])\n",
    "m_team_conferences_df = pd.read_csv(data_file_paths[\"m_team_conferences\"])\n",
    "# Windows codepage 1252 encoded file\n",
    "m_team_spellings_df = pd.read_csv(data_file_paths[\"m_team_spellings\"], encoding=\"cp1252\")"
   ]
  },
  {
   "cell_type": "markdown",
   "metadata": {},
   "source": [
    "## Explore Data"
   ]
  },
  {
   "cell_type": "code",
   "execution_count": null,
   "metadata": {},
   "outputs": [],
   "source": [
    "def explore_df(df, title=\"Data Frame\"):\n",
    "    \"\"\"\n",
    "    Explores a specified Pandas data frame by printing out all of it's metrics\n",
    "    and information neatly.\n",
    "    \n",
    "    Args:\n",
    "        df (pandas.DataFrame): Pandas Data Frame to explore.\n",
    "        title (str): Title/name of data frame. Default is 'Data Frame'.\n",
    "        \n",
    "    Returns:\n",
    "        None: Nothing.\n",
    "    \"\"\"\n",
    "    print(\"======================================================================\")\n",
    "    print(\"{0}:\".format(title))\n",
    "    print(\"======================================================================\")\n",
    "    print(\"Data Type:\")\n",
    "    print(\"----------------------------------------------------------------------\")\n",
    "    print(type(df), \"\\n\")\n",
    "    print(\"First 5 Rows:\")\n",
    "    print(\"----------------------------------------------------------------------\")\n",
    "    print(df.head(), \"\\n\")\n",
    "    print(\"Last 5 Rows:\")\n",
    "    print(\"----------------------------------------------------------------------\")\n",
    "    print(df.tail(), \"\\n\")\n",
    "    print(\"Description:\")\n",
    "    print(\"----------------------------------------------------------------------\")\n",
    "    print(df.describe(include=np.object), \"\\n\")\n",
    "    print(\"Information:\")\n",
    "    print(\"----------------------------------------------------------------------\")\n",
    "    df.info()\n",
    "    print(\"\\nNumber of Rows & Columns (Rows, Columns):\")\n",
    "    print(\"----------------------------------------------------------------------\")\n",
    "    print(df.shape, \"\\n\")\n",
    "    print(\"Number of Rows:\")\n",
    "    print(\"----------------------------------------------------------------------\")\n",
    "    print(len(df), \"\\n\")\n",
    "    print(\"Number of Elements (Rows x Columns):\")\n",
    "    print(\"----------------------------------------------------------------------\")\n",
    "    print(df.size, \"\\n\")\n",
    "    print(\"Columns:\")\n",
    "    print(\"----------------------------------------------------------------------\")\n",
    "    print(df.columns, \"\\n\")\n",
    "    for column in df.columns:\n",
    "        print(\"Column:\")\n",
    "        print(\"----------------------------------------------------------------------\")\n",
    "        print(column, \"\\n\")\n",
    "        print(\"'{0}' Value Counts:\".format(column))\n",
    "        print(\"----------------------------------------------------------------------\")\n",
    "        print(df[column].value_counts(), \"\\n\")\n",
    "        print(\"Minimum '{0}' Value:\".format(column))\n",
    "        print(\"----------------------------------------------------------------------\")\n",
    "        print(df[column].min(), \"\\n\")\n",
    "        print(\"Maximum '{0}' Value:\".format(column))\n",
    "        print(\"----------------------------------------------------------------------\")\n",
    "        print(df[column].max(), \"\\n\")\n",
    "    print(\"Null Values:\")\n",
    "    print(\"----------------------------------------------------------------------\")\n",
    "    print(df.isnull().sum(), \"\\n\")\n",
    "\n",
    "# Basic data\n",
    "explore_df(df=m_ncaa_tourney_compact_results_df, title=\"Men's NCAA Tourney Compact Results\")\n",
    "explore_df(df=m_ncaa_tourney_seeds_df, title=\"Men's NCAA Tourney Seeds\")\n",
    "explore_df(df=m_regular_season_compact_results_df, title=\"Men's Regular Season Compact Results\")\n",
    "explore_df(df=m_seasons_df, title=\"Men's Seasons\")\n",
    "explore_df(df=m_teams_df, title=\"Men's Teams\")\n",
    "\n",
    "# Team box scores data\n",
    "explore_df(df=m_ncaa_tourney_detailed_results_df, title=\"Men's NCAA Tourney Detailed Results\")\n",
    "explore_df(df=m_regular_season_detailed_results_df, title=\"Men's Regular Season Detailed Results\")\n",
    "\n",
    "# Geography data\n",
    "explore_df(df=cities_df, title=\"Cities\")\n",
    "explore_df(df=m_game_cities_df, title=\"Men's Game Cities\")\n",
    "\n",
    "# Public rankings data\n",
    "explore_df(df=m_massey_ordinals_df, title=\"Men's Massey Ordinals\")\n",
    "\n",
    "# Supplemental data\n",
    "explore_df(df=conferences_df, title=\"Conferences\")\n",
    "explore_df(df=m_conference_tourney_games_df, title=\"Men's Conference Tourney Games\")\n",
    "explore_df(df=m_ncaa_tourney_seed_round_slots_df, title=\"Men's NCAA Tourney Seed Round Slots\")\n",
    "explore_df(df=m_ncaa_tourney_slots_df, title=\"Men's NCAA Tourney Slots\")\n",
    "explore_df(df=m_secondary_tourney_compact_results_df, title=\"Men's Secondary Tourney Compact Results\")\n",
    "explore_df(df=m_secondary_tourney_teams_df, title=\"Men's Secondary Tourney Teams\")\n",
    "explore_df(df=m_team_coaches_df, title=\"Men's Team Coaches\")\n",
    "explore_df(df=m_team_conferences_df, title=\"Men's Team Conferences\")\n",
    "explore_df(df=m_team_spellings_df, title=\"Men's Team Spellings\")"
   ]
  },
  {
   "cell_type": "markdown",
   "metadata": {},
   "source": [
    "## Preprocess Data"
   ]
  },
  {
   "cell_type": "code",
   "execution_count": null,
   "metadata": {},
   "outputs": [],
   "source": []
  },
  {
   "cell_type": "markdown",
   "metadata": {},
   "source": [
    "## Analysis"
   ]
  },
  {
   "cell_type": "code",
   "execution_count": null,
   "metadata": {},
   "outputs": [],
   "source": []
  }
 ],
 "metadata": {
  "kernelspec": {
   "display_name": "Python 3",
   "language": "python",
   "name": "python3"
  },
  "language_info": {
   "codemirror_mode": {
    "name": "ipython",
    "version": 3
   },
   "file_extension": ".py",
   "mimetype": "text/x-python",
   "name": "python",
   "nbconvert_exporter": "python",
   "pygments_lexer": "ipython3",
   "version": "3.8.5"
  }
 },
 "nbformat": 4,
 "nbformat_minor": 4
}
