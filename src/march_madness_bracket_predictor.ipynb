{
 "cells": [
  {
   "cell_type": "markdown",
   "metadata": {},
   "source": [
    "# 2021 March Madness Bracket Predictor\n",
    "\n",
    "### Predicts and generates a 2021 March Madness bracket.\n",
    "\n",
    "Developers:\n",
    "- Brady Lange (03/05/2021)"
   ]
  },
  {
   "cell_type": "markdown",
   "metadata": {},
   "source": [
    "## Libraries"
   ]
  },
  {
   "cell_type": "code",
   "execution_count": 1,
   "metadata": {},
   "outputs": [],
   "source": [
    "# Import standard libraries\n",
    "import os\n",
    "import pandas as pd"
   ]
  },
  {
   "cell_type": "markdown",
   "metadata": {},
   "source": [
    "## Load Data"
   ]
  },
  {
   "cell_type": "code",
   "execution_count": 2,
   "metadata": {},
   "outputs": [],
   "source": [
    "data_dir_path = os.path.abspath(os.path.join(\"..\", \"data\"))\n",
    "\n",
    "data_file_paths = {}\n",
    "\n",
    "for file in os.listdir(data_dir_path):\n",
    "    if file.endswith(\".csv\"):\n",
    "        data_file_paths[file[:-4]] = os.path.join(data_dir_path, file)\n",
    "\n",
    "cities_df = pd.read_csv(data_file_paths[\"Cities\"])\n",
    "conferences_df = pd.read_csv(data_file_paths[\"Conferences\"])\n",
    "m_conference_tourney_games_df = pd.read_csv(data_file_paths[\"MConferenceTourneyGames\"])\n",
    "m_game_cities_df = pd.read_csv(data_file_paths[\"MGameCities\"])\n",
    "m_massey_ordinals_df = pd.read_csv(data_file_paths[\"MMasseyOrdinals\"])\n",
    "m_ncaa_tourney_compact_results_df = pd.read_csv(data_file_paths[\"MNCAATourneyCompactResults\"])\n",
    "m_ncaa_tourney_detailed_results_df = pd.read_csv(data_file_paths[\"MNCAATourneyDetailedResults\"])\n",
    "m_ncaa_tourney_seed_round_slots_df = pd.read_csv(data_file_paths[\"MNCAATourneySeedRoundSlots\"])\n",
    "m_ncaa_tourney_seeds_df = pd.read_csv(data_file_paths[\"MNCAATourneySeeds\"])\n",
    "m_ncaa_tourney_slots_df = pd.read_csv(data_file_paths[\"MNCAATourneySlots\"])\n",
    "m_regular_season_compact_results_df = pd.read_csv(data_file_paths[\"MRegularSeasonCompactResults\"])\n",
    "m_regular_season_detailed_results_df = pd.read_csv(data_file_paths[\"MRegularSeasonDetailedResults\"])\n",
    "m_sample_submission_stage_1_df = pd.read_csv(data_file_paths[\"MSampleSubmissionStage1\"])\n",
    "m_seasons_df = pd.read_csv(data_file_paths[\"MSeasons\"])\n",
    "m_secondary_tourney_compact_results_df = pd.read_csv(data_file_paths[\"MSecondaryTourneyCompactResults\"])\n",
    "m_secondary_tourney_teams_df = pd.read_csv(data_file_paths[\"MSecondaryTourneyTeams\"])\n",
    "m_team_coaches_df = pd.read_csv(data_file_paths[\"MTeamCoaches\"])\n",
    "m_team_conferences_df = pd.read_csv(data_file_paths[\"MTeamConferences\"])\n",
    "m_teams_df = pd.read_csv(data_file_paths[\"MTeams\"])\n",
    "# Windows codepage 1252 encoded file\n",
    "m_team_spellings_df = pd.read_csv(data_file_paths[\"MTeamSpellings\"], encoding=\"cp1252\")"
   ]
  },
  {
   "cell_type": "markdown",
   "metadata": {},
   "source": [
    "## Explore Data"
   ]
  },
  {
   "cell_type": "code",
   "execution_count": 3,
   "metadata": {},
   "outputs": [
    {
     "name": "stdout",
     "output_type": "stream",
     "text": [
      "Cities:\n",
      "   CityID         City State\n",
      "0    4001      Abilene    TX\n",
      "1    4002        Akron    OH\n",
      "2    4003       Albany    NY\n",
      "3    4004  Albuquerque    NM\n",
      "4    4005    Allentown    PA\n",
      "     CityID          City State\n",
      "448    4471       Midland    TX\n",
      "449    4472  Riviera Maya    MX\n",
      "450    4473     St. James    JA\n",
      "451    4474      Victoria    BC\n",
      "452    4475    Wilmington    DE\n",
      "            CityID\n",
      "count   453.000000\n",
      "mean   4230.607064\n",
      "std     136.200464\n",
      "min    4001.000000\n",
      "25%    4114.000000\n",
      "50%    4227.000000\n",
      "75%    4341.000000\n",
      "max    4475.000000\n",
      "CityID    453\n",
      "City      453\n",
      "State     453\n",
      "dtype: int64\n",
      "Conferences:\n",
      "Men's Conference Tourney Games:\n",
      "Men's Massey Ordinals:\n",
      "Men's NCAA Tourney Compact Results:\n",
      "Men's NCAA Tourney Detailed Results:\n",
      "Men's NCAA Tourney Seed Round Slots:\n",
      "Men's NCAA Tourney Seeds:\n",
      "Men's NCAA Tourney Slots:\n",
      "Men's Regular Season Compact Results:\n",
      "Men's Regular Season Detailed Results:\n",
      "Men's Sample Submission Stage 1:\n",
      "Men's Seasons:\n",
      "Men's Secondary Tourney Compact Results:\n",
      "Men's Secondary Tourney Teams:\n",
      "Men's Team Coaches:\n",
      "Men's Team Conferences:\n",
      "Men's Teams:\n",
      "Men's Team Spellings:\n"
     ]
    }
   ],
   "source": [
    "print(\"Cities:\")\n",
    "print(cities_df.head())\n",
    "print(cities_df.tail())\n",
    "print(cities_df.describe())\n",
    "print(cities_df.count())\n",
    "\n",
    "print(\"Conferences:\")\n",
    "\n",
    "print(\"Men's Conference Tourney Games:\")\n",
    "\n",
    "print(\"Men's Massey Ordinals:\")\n",
    "\n",
    "print(\"Men's NCAA Tourney Compact Results:\")\n",
    "\n",
    "print(\"Men's NCAA Tourney Detailed Results:\")\n",
    "\n",
    "print(\"Men's NCAA Tourney Seed Round Slots:\")\n",
    "\n",
    "print(\"Men's NCAA Tourney Seeds:\")\n",
    "\n",
    "print(\"Men's NCAA Tourney Slots:\")\n",
    "\n",
    "print(\"Men's Regular Season Compact Results:\")\n",
    "\n",
    "print(\"Men's Regular Season Detailed Results:\")\n",
    "\n",
    "print(\"Men's Sample Submission Stage 1:\")\n",
    "\n",
    "print(\"Men's Seasons:\")\n",
    "\n",
    "print(\"Men's Secondary Tourney Compact Results:\")\n",
    "\n",
    "print(\"Men's Secondary Tourney Teams:\")\n",
    "\n",
    "print(\"Men's Team Coaches:\")\n",
    "\n",
    "print(\"Men's Team Conferences:\")\n",
    "\n",
    "print(\"Men's Teams:\")\n",
    "\n",
    "print(\"Men's Team Spellings:\")"
   ]
  }
 ],
 "metadata": {
  "kernelspec": {
   "display_name": "Python 3",
   "language": "python",
   "name": "python3"
  },
  "language_info": {
   "codemirror_mode": {
    "name": "ipython",
    "version": 3
   },
   "file_extension": ".py",
   "mimetype": "text/x-python",
   "name": "python",
   "nbconvert_exporter": "python",
   "pygments_lexer": "ipython3",
   "version": "3.8.5"
  }
 },
 "nbformat": 4,
 "nbformat_minor": 4
}
